{
 "cells": [
  {
   "cell_type": "code",
   "execution_count": 1,
   "metadata": {},
   "outputs": [
    {
     "name": "stdout",
     "output_type": "stream",
     "text": [
      "Requirement already satisfied: opencv-python in /Users/jiamingyu/opt/anaconda3/lib/python3.9/site-packages (4.6.0.66)\r\n",
      "Requirement already satisfied: numpy>=1.17.3 in /Users/jiamingyu/opt/anaconda3/lib/python3.9/site-packages (from opencv-python) (1.20.3)\r\n"
     ]
    }
   ],
   "source": [
    "import numpy as np\n",
    "import matplotlib.pyplot as plt\n",
    "plt.gray()\n",
    "!pip install opencv-python\n",
    "import cv2 \n",
    "%matplotlib inline"
   ]
  },
  {
   "cell_type": "markdown",
   "metadata": {},
   "source": [
    "# Convolutional Neural Networks mit Keras\n",
    "\n",
    "Für sehr komplexe Datensätze, für die ein hohes Maß an Abstraktionsfähigkeit und Generalisierbarkeit aufgebracht werden muss, sind \"klassische\" Machine Learning Methoden meist nicht anwendbar. In vielen Bereichen können nur Deep Neural Networks mit einer großen Zahl an Parametern die nichtlinearen Relationen mit einer akzeptablen Genauigkeit abbilden. Dazu zählen vor allem Themen wie Bildklassifikation bzw. Objekterkennung. Die Klassifikation eines Bildes als Hund oder Katze stellt für einen Menschen keine Herausforderung dar, einem neuronalen Netz allerdings kann dies erst mit einer großen Anzahl an Trainingsbildern und einer sehr speziellen Netzarchitektur gelingen."
   ]
  },
  {
   "cell_type": "markdown",
   "metadata": {},
   "source": [
    "## Aufgabe 1: Bilder als 1-D Vektoren\n",
    "\n",
    "In den vorherigen Übungen haben wir die Datensätze stets als 1-D Vektoren in einen Klassifikator gespeist. Dies könnte auch für Bilder ein erster Ansatz sein. Dazu wollen wir zunächst berechnen, wie viele Parameter ein Neuronales Netz benötigt, welches Bilder mit einer Größe von 28x28 Pixeln einließt und eine von 10 Klassen ausgibt. Die Anzahl an Parametern, die ein voll zusammenhängendes Neuronales Netz besitzt lässt sich berechnen mit $$N_P = \\sum_{i=1}^{L-1} (n_i \\cdot n_{i+1} + n_{i+1})$$ mit der Anzahl der Neuronen $n_i$ im $i$-ten Layer und einer Gesamtanzahl von Layern $L$. \n",
    "\n",
    "<img src=\"skizze.jpg\" alt=\"Drawing\" style=\"width: 600px;\"/>\n",
    "\n",
    "a) Wie viele Parameter besitzt ein Neuronales Netz, das zwei versteckte Layer besitzt mit der gleichen Größe, wie der Input Layer? Schreibe eine Funktion in Python, die die Parameteranzahl ausrechnet. Sie soll als Argument eine Liste erhalten mit der Anzahl der Neuronen in jedem Layer. \n",
    "\n",
    "Insgesamt 1238730 Parameter.\n",
    "\n"
   ]
  },
  {
   "cell_type": "code",
   "execution_count": 25,
   "metadata": {},
   "outputs": [],
   "source": [
    "def parameters(layers) :\n",
    "    i=0\n",
    "    N_p=0\n",
    "    while i<3:\n",
    "        N_p = N_p + (layers[i]+1)*layers[i+1]\n",
    "        i +=1\n",
    "        print(N_p)\n",
    "        "
   ]
  },
  {
   "cell_type": "code",
   "execution_count": 26,
   "metadata": {},
   "outputs": [
    {
     "name": "stdout",
     "output_type": "stream",
     "text": [
      "615440\n",
      "1230880\n",
      "1238730\n"
     ]
    }
   ],
   "source": [
    "layers = [784, 784, 784, 10]\n",
    "parameters(layers)"
   ]
  },
  {
   "cell_type": "markdown",
   "metadata": {},
   "source": [
    "b) Wie viele Parameter ergeben sich für ein Bild der Größe 200x200 mit dieser Methode? Wie verhält es sich bei einem Bild mit Full HD-Auflösung? Welche Probleme ergeben sich?\n",
    "\n",
    "jeweils 3200480010 und 2720991916810. Aufgrund der großen Anzahl von Parametern in der voll zusammenhängendes Neuronales Netz steigt jedoch die Komplexität des Modells. Es wird sich Overfitting ergeben."
   ]
  },
  {
   "cell_type": "code",
   "execution_count": 28,
   "metadata": {},
   "outputs": [
    {
     "name": "stdout",
     "output_type": "stream",
     "text": [
      "1600040000\n",
      "3200080000\n",
      "3200480010\n"
     ]
    }
   ],
   "source": [
    "layers = [40000,40000,40000,10]\n",
    "parameters(layers)"
   ]
  },
  {
   "cell_type": "code",
   "execution_count": 29,
   "metadata": {},
   "outputs": [
    {
     "name": "stdout",
     "output_type": "stream",
     "text": [
      "1360490126400\n",
      "2720980252800\n",
      "2720991916810\n"
     ]
    }
   ],
   "source": [
    "layers = [1080*1080,1080*1080,1080*1080,10]\n",
    "parameters(layers)"
   ]
  },
  {
   "cell_type": "markdown",
   "metadata": {},
   "source": [
    "## Aufgabe 2: Filter aus der Computer Vision"
   ]
  },
  {
   "cell_type": "markdown",
   "metadata": {},
   "source": [
    "Im vorherigen Ansatz ist jeder Pixel aus dem eingespeisten Bild mit jedem Neuron aus dem nachvolgenden Layer verbunden. In Bildern sind Informationen jedoch häufig lokal zentriert. Daher ist ein nächster Ansatz, dass ein Neuron aus dem zweiten Layer nur Informatione zu benachbarten Pixeln im ursprünglichen Bild erhält. Dadurch kann die Anzahl der benötigten Parameter stark reduziert werden. \n",
    "In der klassischen Bildverarbeitung werden dafür meist Filter definiert, die über das Bild gelegt werden und so beispielsweise Kanten in einem Bild detektieren können. Diesen Ansatz möchten wir im Folgenden weiter untersuchen.\n",
    "\n",
    "a) Lies das Bild ```digit_7.jpg``` mit der Größe $M$x$M$ mit $M=28$ mithilfe von OpenCV (cv2) ein. Hinweis: Lies das Bild im Graustufen-Modus ein.\n",
    "Lass dir das Bild anschließend in Juypter Notebook anzeigen (das funktioniert am besten mit der matplotlib-Bibliothek)"
   ]
  },
  {
   "cell_type": "code",
   "execution_count": null,
   "metadata": {},
   "outputs": [],
   "source": [
    "bild=cv2.imread('./digit_7.jpg')\n",
    "cv2.imshow('bild',bild)\n",
    "cv2.waitKey()\n",
    "cv2.destroyAllWindows()                "
   ]
  },
  {
   "cell_type": "code",
   "execution_count": 8,
   "metadata": {},
   "outputs": [
    {
     "data": {
      "image/png": "[encoded data removed]",
      "text/plain": [
       "<Figure size 640x480 with 1 Axes>"
      ]
     },
     "metadata": {},
     "output_type": "display_data"
    }
   ],
   "source": [
    "plt.imshow(plt.imread('digit_7.jpg'), cmap='gray')\n",
    "plt.show()"
   ]
  },
  {
   "cell_type": "code",
   "execution_count": 31,
   "metadata": {},
   "outputs": [
    {
     "name": "stdout",
     "output_type": "stream",
     "text": [
      "[[  0   0   0   0   0   0   0   0   0   0   0   0   0   0   0   0   0   0\n",
      "    0   0   0   0   0   0   0   0   0   0]\n",
      " [  0   0   0   0   0   0   0   0   0   0   0   0   0   0   0   0   0   0\n",
      "    0   0   0   0   0   0   0   0   0   0]\n",
      " [  0   0   0   0   0   0   0   0   0   0   0   0   0   0   0   0   0   0\n",
      "    0   0   0   0   0   0   0   0   0   0]\n",
      " [  0   0   0   0   0   0   0   0   0   0   0   0   0   0   0   0   0   0\n",
      "    0   0   0   0   0   0   0   0   0   0]\n",
      " [  0   0   0   0   0   0   0   0   0   0   0   0   0   0   0   0   0   0\n",
      "    0   0   0   0   0   0   0   0   0   0]\n",
      " [  0   0   0   0   0   0   0   0   0   0   0   0   0   0   0   0   0   0\n",
      "    0   0   0   0   0   0   0   0   0   0]\n",
      " [  0   0   0   0   0   0   0   0   0   0   0   0   0   0   0   0   0   0\n",
      "    0   0   0   0   0   0   0   0   0   0]\n",
      " [  0   0   0   0   0   0   0   0   0   0   0   0   0   0   0   0   0   0\n",
      "    0   0   0   0   0   0   0   0   0   0]\n",
      " [  1   3   1   0 251 255 255 244 223 253 255 254 242 255 255 251 252 127\n",
      "    0   4   2   0   0   2   0   0   0   0]\n",
      " [  0   0   0   1 161 206 252 255 251 254 252 255 255 253 225 250 255 144\n",
      "    3   0   0   0   3   0   0   0   0   0]\n",
      " [  9   9   2   0   3  22  49  61  68  61  64  72  65  54  37 154 255 157\n",
      "    8   0   0   0  10   0   0   0   0   0]\n",
      " [  0   0   2   6   0   5   9   7   2   0   4   7   2   0   0 182 255 145\n",
      "    5   0   3   0  10   0   0   0   0   0]\n",
      " [  0   5   0   0   1   0   0   0   0   0   0   0   2   6   0 188 251 110\n",
      "    0   0   9   0   4   0   0   0   0   0]\n",
      " [  0   9   3   0   4   0   0   9   0   8   1   6   1  12   9 237 251  71\n",
      "    0   1   7   0   0   1   0   0   0   0]\n",
      " [  0   0   1   6   0   0   0   0   0   2   0   3   0   0  21 255 255  45\n",
      "    4   2   0   1   0   0   0   0   0   0]\n",
      " [  7   0   0  17   0   9   6   0   3   6   0  16   1   0  12 240 255  36\n",
      "   15   1   0   7   0   0   0   0   0   0]\n",
      " [  0   0   0   0   0   0   0   0   0   0   2   8   0   0  24 244 247  65\n",
      "    0   0   6   0   4   0   0   0   0   0]\n",
      " [  0   0   0   0   0   0   0   0   2   0   0   3   0   0   7 208 255 100\n",
      "    5   0   5   0   3   0   0   0   0   0]\n",
      " [  0   0   0   0   0   0   0   0   3   0   0   0   0   1   0 173 255 139\n",
      "    3   4   3   0   4   0   0   0   0   0]\n",
      " [  0   0   0   0   0   0   0   0   0   1   0   0   0   9   0 162 255 159\n",
      "    0   3   1   0   5   0   0   0   0   0]\n",
      " [  0   0   0   0   0   0   0   0   0   2   1   0   0  10   0 167 245 164\n",
      "    0   3   0   1   6   0   0   0   0   0]\n",
      " [  0   0   0   0   0   0   0   0   0   2   2   0   0   4   0 170 247 162\n",
      "    0   5   1   1   5   0   0   0   0   0]\n",
      " [  0   0   0   0   0   0   0   0   0   0   0   1   0   1   0 173 255 153\n",
      "    2   4   0   0   4   0   0   0   0   0]\n",
      " [  0   0   0   0   0   0   0   0   0   0   0   4   0   3   0 175 255 143\n",
      "    4   0   0   0   5   2   0   0   0   0]\n",
      " [  0   0   0   0   0   0   0   0   0   0   3   0   0   0   7 169 255 153\n",
      "    0   1   0   3   0   3   0   0   0   0]\n",
      " [  0   0   0   0   0   0   0   0   0   0   2   0   2   0  10 168 255 153\n",
      "    0   1   0   3   0   3   0   0   0   0]\n",
      " [  0   0   0   0   0   0   0   0   0   0   0   0   4   1   6 157 255 153\n",
      "    0   1   0   3   0   3   0   0   0   0]\n",
      " [  0   0   0   0   0   0   0   0   1   0   0   0   3   0   0 139 255 153\n",
      "    0   1   0   3   0   3   0   0   0   0]]\n"
     ]
    }
   ],
   "source": [
    "bild =plt.imread('digit_7.jpg')\n",
    "print(bild)"
   ]
  },
  {
   "cell_type": "markdown",
   "metadata": {},
   "source": [
    "Wir wenden im nächsten Schritt einen vorgefertigten Filter auf das Bild an. Der Filter ist eine 3x3 Matrix und wird anschaulich über das Bild \"geschoben\". Dabei wird erst das Hadamard-Produkt mit einem Teil des Bildes und dem Filter gebildet und anschließend die Summe der resultierenden Matrixelemente gebildet. Dieser Vorgang wird wiederholt, bis das ganze Bild abgedeckt ist.\n",
    "\n",
    "<img src=\"convolution.jpg\" alt=\"Drawing\" style=\"width: 600px;\"/>\n",
    "\n",
    "\n",
    "b) Schreibe eine Funktion, die als Argumente das Bild und den Filter $N$x$N$ jeweils als numpy Array erhält und die 2D Convolution davon ausgibt. Die 2D Convolution ist für unseren Fall gegeben als $$C_{kl} = \\sum_{i, j=1}^{N} B_{i+k-1, j+l-1} \\cdot F_{ij}$$ mit dem Filter $F$, dem Bild $B$ und dem Ergebnis der Convolution $C$ und funktioniert anschaulich wie oben beschrieben. Das Ergebnisbild hat die Dimension $M-N+1$ Hinweis: Benutze die eingebauten numpy Funktionen."
   ]
  },
  {
   "cell_type": "code",
   "execution_count": 36,
   "metadata": {},
   "outputs": [
    {
     "name": "stdout",
     "output_type": "stream",
     "text": [
      "result： [[   0.    0.    0.    0.    0.    0.    0.    0.    0.    0.    0.    0.\n",
      "     0.    0.    0.    0.    0.    0.    0.    0.    0.    0.    0.    0.\n",
      "     0.    0.]\n",
      " [   0.    0.    0.    0.    0.    0.    0.    0.    0.    0.    0.    0.\n",
      "     0.    0.    0.    0.    0.    0.    0.    0.    0.    0.    0.    0.\n",
      "     0.    0.]\n",
      " [   0.    0.    0.    0.    0.    0.    0.    0.    0.    0.    0.    0.\n",
      "     0.    0.    0.    0.    0.    0.    0.    0.    0.    0.    0.    0.\n",
      "     0.    0.]\n",
      " [   0.    0.    0.    0.    0.    0.    0.    0.    0.    0.    0.    0.\n",
      "     0.    0.    0.    0.    0.    0.    0.    0.    0.    0.    0.    0.\n",
      "     0.    0.]\n",
      " [   0.    0.    0.    0.    0.    0.    0.    0.    0.    0.    0.    0.\n",
      "     0.    0.    0.    0.    0.    0.    0.    0.    0.    0.    0.    0.\n",
      "     0.    0.]\n",
      " [   0.    0.    0.    0.    0.    0.    0.    0.    0.    0.    0.    0.\n",
      "     0.    0.    0.    0.    0.    0.    0.    0.    0.    0.    0.    0.\n",
      "     0.    0.]\n",
      " [   0.    3. -250. -255.   -4.   11.   32.   -9.  -32.   -1.   13.   -1.\n",
      "   -13.    4.    3.  124.  252.  123.   -2.    4.    2.   -2.    0.    2.\n",
      "     0.    0.]\n",
      " [   0.    2. -411. -460.  -95.  -38.   33.   -8.  -33.   -2.   10.    1.\n",
      "    17.    7.  -27.  230.  504.  267.    1.    4.   -1.   -2.    3.    2.\n",
      "     0.    0.]\n",
      " [   7.   11. -412. -482. -141.  -77.   14.   -8.  -29.  -13.    9.   19.\n",
      "    45.  -93. -245.  227.  751.  424.    9.    4.  -11.   -2.   13.    2.\n",
      "     0.    0.]\n",
      " [   5.    2. -160. -226. -146.  -90.  -11.    8.    1.  -19.   -2.   27.\n",
      "    60. -279. -503.  140.  749.  446.   13.    0.  -20.    0.   23.    0.\n",
      "     0.    0.]\n",
      " [   5.    8.    0.  -21.  -54.  -41.  -12.    7.    2.  -18.   -1.   19.\n",
      "    32. -464. -724.  112.  748.  412.    1.    0.  -12.    0.   24.    0.\n",
      "     0.    0.]\n",
      " [  -5.    8.    0.    1.   -4.  -11.    7.    8.   -3.   -5.    0.   -5.\n",
      "    -4. -589. -748.  281.  752.  325.  -14.    1.    5.   -1.   14.    1.\n",
      "     0.    0.]\n",
      " [  -4.    8.   -1.    6.    5.   -9.    0.   -1.   -1.    1.   -2.   -9.\n",
      "   -27. -662. -727.  454.  753.  223.  -12.    2.   12.    0.    4.    1.\n",
      "     0.    0.]\n",
      " [   3.  -14.    0.   14.   -2.    0.    3.   -7.    2.   -9.   -1.   13.\n",
      "   -40. -720. -719.  580.  742.  148.   12.   -4.    7.    7.    0.    1.\n",
      "     0.    0.]\n",
      " [   6.  -23.    1.   14.   -6.    9.    3.   -8.    1.  -19.    1.   27.\n",
      "   -56. -739. -700.  593.  738.  143.   13.   -5.    2.    8.    4.    0.\n",
      "     0.    0.]\n",
      " [   7.  -17.    0.    8.   -6.    9.    1.   -6.    3.  -21.    1.   27.\n",
      "   -42. -692. -714.  491.  737.  200.    9.   -6.    4.    7.    7.    0.\n",
      "     0.    0.]\n",
      " [   0.    0.    0.    0.    0.    0.   -5.    0.    3.  -11.    2.   10.\n",
      "   -31. -624. -726.  321.  749.  300.   -6.    4.    3.    0.   11.    0.\n",
      "     0.    0.]\n",
      " [   0.    0.    0.    0.    0.    0.   -5.   -1.    5.   -2.    0.   -7.\n",
      "    -7. -533. -758.  145.  757.  391.   -1.    7.   -3.    0.   12.    0.\n",
      "     0.    0.]\n",
      " [   0.    0.    0.    0.    0.    0.   -3.   -3.    2.    3.    1.  -20.\n",
      "     0. -482. -755.   40.  752.  452.   -1.    9.  -11.    1.   15.    0.\n",
      "     0.    0.]\n",
      " [   0.    0.    0.    0.    0.    0.    0.   -5.   -3.    5.    3.  -23.\n",
      "     0. -476. -747.   14.  747.  474.   -2.    9.  -14.    2.   16.    0.\n",
      "     0.    0.]\n",
      " [   0.    0.    0.    0.    0.    0.    0.   -4.   -3.    3.    3.  -14.\n",
      "     0. -495. -747.   31.  745.  467.    1.   10.  -14.    2.   15.    0.\n",
      "     0.    0.]\n",
      " [   0.    0.    0.    0.    0.    0.    0.   -2.   -2.   -3.    2.   -3.\n",
      "     0. -510. -757.   60.  751.  449.    5.    8.  -13.   -1.   14.    2.\n",
      "     0.    0.]\n",
      " [   0.    0.    0.    0.    0.    0.    0.    0.   -3.   -5.    3.    1.\n",
      "    -7. -513. -758.   68.  759.  444.    6.    2.   -9.   -2.    9.    5.\n",
      "     0.    0.]\n",
      " [   0.    0.    0.    0.    0.    0.    0.    0.   -5.   -4.    3.    1.\n",
      "   -15. -509. -748.   63.  761.  447.    4.   -4.   -5.   -2.    5.    8.\n",
      "     0.    0.]\n",
      " [   0.    0.    0.    0.    0.    0.    0.    0.   -5.    0.   -1.   -1.\n",
      "   -17. -493. -742.   35.  765.  456.    0.   -6.    0.    0.    0.    9.\n",
      "     0.    0.]\n",
      " [   0.    0.    0.    0.    0.    0.   -1.    0.   -1.    0.   -7.   -1.\n",
      "    -7. -463. -749.    5.  765.  456.    0.   -6.    0.    0.    0.    9.\n",
      "     0.    0.]]\n"
     ]
    }
   ],
   "source": [
    "filter_matrix = np.array([[1, 0, -1], [1, 0, -1], [1, 0, -1]])\n",
    "\n",
    "def Conv2(img, kernel, n, stride):\n",
    "    h, w = img.shape\n",
    "    res_h = ((h-n)//stride)+1 \n",
    "    res_w = ((w-n)//stride)+1\n",
    "    res = np.zeros([res_h, res_w])\n",
    "    for i in range(res_h):\n",
    "        for j in range(res_w):\n",
    "            temp = img[i*stride:i*stride+n, j*stride:j*stride+n]\n",
    "            temp = np.multiply(kernel, temp)\n",
    "            res[i][j] = temp.sum()\n",
    "    return res\n",
    "\n",
    "if __name__ == '__main__':\n",
    "\n",
    "   \n",
    "    print(\"result：\",Conv2(bild, filter_matrix, 3, 1))\n"
   ]
  },
  {
   "cell_type": "markdown",
   "metadata": {},
   "source": [
    "c) Was kommt heraus, wenn du den Filter auf das Bild anwendest? Kannst du mit der gleichen Funktion auch vertikale Kanten hervorheben? Lass dir beide transformierte Bilder anzeigen!"
   ]
  },
  {
   "cell_type": "code",
   "execution_count": 37,
   "metadata": {},
   "outputs": [
    {
     "data": {
      "text/plain": [
       "<matplotlib.image.AxesImage at 0x7f78cb8d3880>"
      ]
     },
     "execution_count": 37,
     "metadata": {},
     "output_type": "execute_result"
    },
    {
     "data": {
      "image/png": "[encoded data removed]",
      "text/plain": [
       "<Figure size 640x480 with 1 Axes>"
      ]
     },
     "metadata": {},
     "output_type": "display_data"
    }
   ],
   "source": [
    "plt.imshow(Conv2(bild, filter_matrix, 3, 1))"
   ]
  },
  {
   "cell_type": "code",
   "execution_count": 38,
   "metadata": {},
   "outputs": [
    {
     "data": {
      "text/plain": [
       "<matplotlib.image.AxesImage at 0x7f78b81a2d90>"
      ]
     },
     "execution_count": 38,
     "metadata": {},
     "output_type": "execute_result"
    },
    {
     "data": {
      "image/png": "[encoded data removed]",
      "text/plain": [
       "<Figure size 640x480 with 1 Axes>"
      ]
     },
     "metadata": {},
     "output_type": "display_data"
    }
   ],
   "source": [
    "filter_matrix_1 = np.array([[1, 1, 1], [0, 0, 0], [-1, -1, -1]])\n",
    "plt.imshow(Conv2(bild, filter_matrix_1, 3, 1))"
   ]
  },
  {
   "cell_type": "markdown",
   "metadata": {},
   "source": [
    "d) Bis jetzt sind wir mit der Filtermatrix immer nur in Schritten von 1 vorangegangen. Um größere Texturen in hochaufgelösten Bildern zu erkennen, kann es aber sinnvoll sein die Schrittweite (englisch stride) auf einen größeren Wert zu setzen. Modifiziere obige Funktion und füge einen optionalen Parameter $s$ hinzu,  der die Schrittweite festlegt. Überprüfe dein Ergebnis mit $s=2$. Hinweis: Das Ergebnisbild hat nun die Dimension $\\frac{M-N}{s}+1$"
   ]
  },
  {
   "cell_type": "code",
   "execution_count": 39,
   "metadata": {},
   "outputs": [
    {
     "data": {
      "text/plain": [
       "<matplotlib.image.AxesImage at 0x7f7878266c40>"
      ]
     },
     "execution_count": 39,
     "metadata": {},
     "output_type": "execute_result"
    },
    {
     "data": {
      "image/png": "[encoded data removed]",
      "text/plain": [
       "<Figure size 640x480 with 1 Axes>"
      ]
     },
     "metadata": {},
     "output_type": "display_data"
    }
   ],
   "source": [
    "plt.imshow(Conv2(bild, filter_matrix, 3, 2))"
   ]
  },
  {
   "cell_type": "markdown",
   "metadata": {},
   "source": [
    "Kanten lassen sich mit diesem Verfahren gut abbilden. Bei dieser Art der Covolution werden aber die Pixel am Rand des Bildes viel weniger stark gewichtet, als in der Mitte des Bildes. Um diesen Effekt abzuschwächen, kann das Bild mit Nullen an den Rändern künstlich vergrößert werden. Die eigentlichen Ränder des Bildes werden nun häufiger abgefahren und haben ein stärkeres Gewicht als vorher. Dieses Verfahren wird Padding genannt.\n",
    "\n",
    "\n",
    "e) Modifiziere deine obige Funktion ein letztes Mal, um Padding zu implementieren. Frage dabei als optionalen Parameter ```padding=True/False``` ab, ob Padding durchgeführt werden soll. Die Dimension des Ergebnisbildes verändert sich nun zu $\\frac{M+2p-N}{s}+1$ mit der Paddingbreite $p=\\frac{(s-1)\\cdot M + N - s}{2}$. Hinweis: Nutze die Funktion ```np.pad()```, wenn Padding durchgeführt werden soll."
   ]
  },
  {
   "cell_type": "code",
   "execution_count": 48,
   "metadata": {},
   "outputs": [
    {
     "data": {
      "image/png": "[encoded data removed]",
      "text/plain": [
       "<Figure size 640x480 with 1 Axes>"
      ]
     },
     "metadata": {},
     "output_type": "display_data"
    }
   ],
   "source": [
    "def Conv2p(img, kernel, n, stride, padding):\n",
    "\n",
    "    h, w = img.shape\n",
    "    if padding == True:\n",
    "        p = ((stride-1)*h+n-stride)//2\n",
    "    else:\n",
    "        p = 0\n",
    "    img = np.pad(img,((p,p),(p,p)),'constant',constant_values=0)\n",
    "    res_h = ((h+2*p-n)//stride)+1 \n",
    "    res_w = ((w+2*p-n)//stride)+1\n",
    "    res = np.zeros([res_h, res_w])\n",
    "    for i in range(res_h):\n",
    "        for j in range(res_w):\n",
    "            temp = img[i*stride:i*stride+n, j*stride:j*stride+n]\n",
    "            temp = np.multiply(kernel, temp)\n",
    "            res[i][j] = temp.sum()\n",
    "    return res\n",
    "\n",
    "\n",
    "if __name__ == '__main__':\n",
    "    plt.imshow(Conv2p(bild, filter_matrix, 3, 1, True))\n"
   ]
  },
  {
   "cell_type": "markdown",
   "metadata": {},
   "source": [
    "## Aufgabe 3: CNNs mit Keras und FashionMNIST\n",
    "\n",
    "Im vorherigen Beispiel haben wir den anzuwendenden Filter vorgegeben. Der Grundgedanke eines Convolutional Neural Networks (CNN) ist es nun solche Filter via Backpropagation zu lernen, ganz analog zu einem vollständig zusammenhängenden neuronalen Netz. In jedem Convolutional Layer des Netzes wird dann nicht mehr eine große Gewichtsmatrix $W$ gelernt, sondern mehrere kleine Filtermatrizen. Die Matrizen sollen möglichst verschiedene Eigenschaften eines Bildes herausfiltern, die dann im nächsten Layer weiterverarbeitet werden können.\n",
    "\n",
    "In vielen Fällen ist der Input des Bildes keine einfache $N \\times N$-Matrix, sondern besitzt drei Farb-Kanäle (RGB). Ein Filter wird dann auf alle drei Matrizen gleichzeitig angewendet und die Zahlen werden für jeden Eintrag des Ergebnisses addiert. Auf diese Weise kann ein Convolutional Layer auch mit Inputs umgehen, die aus einem Layer mit mehreren Filtern kommen. Ein schemtischer Aufbau eines CNNs sieht dann ungefähr so aus:\n",
    "\n",
    "<img src=\"Typical_cnn.png\" alt=\"CNN\" style=\"width: 600px;\"/>\n",
    "\n",
    "\n",
    "Quelle:[https://jaai.de/convolutional-neural-networks-cnn-aufbau-funktion-und-anwendungsgebiete-1691/](https://jaai.de/convolutional-neural-networks-cnn-aufbau-funktion-und-anwendungsgebiete-1691/)\n",
    "\n",
    "Das Subsampling wird in Teilaufgabe b) nochmal genauer erläutert."
   ]
  },
  {
   "cell_type": "markdown",
   "metadata": {},
   "source": [
    "\n",
    "\n",
    "Im folgenden möchten wir ganz konkret einen Bilddatensatz einlesen und mittels TensorFlow/Keras ein CNN trainieren.\n",
    "\n",
    "a) Importiere von ```tensorflow.keras.datasets``` den FashionMNIST-Datensatz und lies ihn als Traings- und Testdatensatz aufgeteilt ein. Lass dir einzelne Bilder des Datensatzes plotten. Was ist auf den Bildern dargestellt? Wie viele Klassen gibt es? Normiere die Pixelwerte der Bilder auf einen Wert zwischen 0 und 1.\n",
    "\n",
    "Auf den Bildern ist ein Schuh dargestellt. 10 Klassen."
   ]
  },
  {
   "cell_type": "code",
   "execution_count": 71,
   "metadata": {},
   "outputs": [
    {
     "data": {
      "image/png": "[encoded data removed]",
      "text/plain": [
       "<Figure size 640x480 with 2 Axes>"
      ]
     },
     "metadata": {},
     "output_type": "display_data"
    }
   ],
   "source": [
    "from tensorflow.keras.datasets import fashion_mnist\n",
    "import numpy as np\n",
    "import matplotlib.pyplot as plt\n",
    "\n",
    "(x_train, y_train), (x_test, y_test) = fashion_mnist.load_data()\n",
    "\n",
    "plt.figure()\n",
    "plt.imshow(x_train[0])\n",
    "plt.colorbar()\n",
    "plt.show\n",
    "\n",
    "\n",
    "x_train = x_train/255\n",
    "x_test = x_test/255"
   ]
  },
  {
   "cell_type": "markdown",
   "metadata": {},
   "source": [
    "b) Für die nächste Teilaufgabe muss dem Input künstlich eine Dimension hinzugefügt werden. Wende auf ```x_train``` und ```x_test``` jeweils ```np.reshape(-1,28, 28, 1)``` an."
   ]
  },
  {
   "cell_type": "code",
   "execution_count": 74,
   "metadata": {},
   "outputs": [],
   "source": [
    "x_train = x_train.reshape(-1,28, 28, 1)\n",
    "x_test = x_test.reshape(-1,28, 28, 1)\n"
   ]
  },
  {
   "cell_type": "markdown",
   "metadata": {},
   "source": [
    "Im nächsten Schritt wollen wir ein CNN mit Keras aufbauen. Eine Abwandlung der LeNet-Architektur bietet dafür einen guten Anfang. Der Aufbau ist:\n",
    "1. Convolutional Layer mit 6 Filtern und einer Filtergröße von 3x3.\n",
    "2. MaxPooling Layer\n",
    "3. Convolutional Layer mit 16 Filtern und einer Filtergröße von 3x3.\n",
    "4. MaxPooling Layer\n",
    "5. Dense Layer mit 120 Neuronen.\n",
    "6. Dense Layer mit 84 Neuronen.\n",
    "7. Dense Layer mit 10 Neuronen und der Softmax-Aktivierungsfunktion.\n",
    "\n",
    "Ein MaxPooling Layer konzentrieren die Informationen des convolutional Layer, indem in jedem 2x2 Teilbereich seines Inputs das Maximum findet. Dadurch werden Höhe und Breite des Inputs jeweils halbiert.\n",
    "\n",
    "<img src=\"maxpooling-2.jpg\" alt=\"Drawing\" style=\"width: 300px;\"/>\n",
    "\n",
    "c) Importiere ```Conv2D, MaxPooling2D``` und ```Dense``` aus ```tf.keras.layers``` und baue obige Architektur nach. Lass dir dein Modell mit ```.summary()``` ausgeben. Hinweis: Zwischen 4. und 5. muss das Array in die Form eines 1-D Vektors gebracht werden, da ```Dense``` nicht mit 2-D-Eingaben arbeiten kann.\n"
   ]
  },
  {
   "cell_type": "code",
   "execution_count": 79,
   "metadata": {},
   "outputs": [
    {
     "name": "stdout",
     "output_type": "stream",
     "text": [
      "Model: \"sequential_3\"\n",
      "_________________________________________________________________\n",
      " Layer (type)                Output Shape              Param #   \n",
      "=================================================================\n",
      " conv2d_4 (Conv2D)           (None, 26, 26, 6)         60        \n",
      "                                                                 \n",
      " max_pooling2d_4 (MaxPooling  (None, 13, 13, 6)        0         \n",
      " 2D)                                                             \n",
      "                                                                 \n",
      " conv2d_5 (Conv2D)           (None, 11, 11, 16)        880       \n",
      "                                                                 \n",
      " max_pooling2d_5 (MaxPooling  (None, 5, 5, 16)         0         \n",
      " 2D)                                                             \n",
      "                                                                 \n",
      " flatten_2 (Flatten)         (None, 400)               0         \n",
      "                                                                 \n",
      " dense_6 (Dense)             (None, 120)               48120     \n",
      "                                                                 \n",
      " dense_7 (Dense)             (None, 84)                10164     \n",
      "                                                                 \n",
      " dense_8 (Dense)             (None, 10)                850       \n",
      "                                                                 \n",
      "=================================================================\n",
      "Total params: 60,074\n",
      "Trainable params: 60,074\n",
      "Non-trainable params: 0\n",
      "_________________________________________________________________\n"
     ]
    }
   ],
   "source": [
    "import tensorflow as tf\n",
    "from tensorflow.keras.models import Sequential\n",
    "from tensorflow.keras.layers import Conv2D, MaxPooling2D, Dense, Flatten\n",
    "\n",
    "def LeNet_Architektur():\n",
    "    model = Sequential()\n",
    "    model.add(Conv2D(6,( 3, 3), padding='valid', input_shape=( 28, 28, 1), activation='relu'))\n",
    "    model.add(MaxPooling2D(pool_size=(2, 2),strides =(2,2)))\n",
    "    model.add(Conv2D(16,( 3, 3), padding='valid', input_shape=( 14, 14, 6), activation='relu'))\n",
    "    model.add(MaxPooling2D(pool_size=(2, 2),strides =(2,2)))\n",
    "    model.add(Flatten())\n",
    "    model.add(Dense(120, activation='relu'))\n",
    "    model.add(Dense(84, activation='relu'))\n",
    "    model.add(Dense(10, activation='softmax'))\n",
    "    return model\n",
    "\n",
    "model = LeNet_Architektur()\n",
    "model.summary()"
   ]
  },
  {
   "cell_type": "markdown",
   "metadata": {},
   "source": [
    "d) Um das Modell bereit fürs Training zu machen, wird die ```.compile()```-Methode verwendet. Dabei sollte noch die verwendete Verlustfunktion, sowie der genutze Optimierer angegeben werden. Wähle hierfür die ```sparse_categorical_crossentropy``` bzw. den Adam-Optimierer. Nutze die Accuracy als Qualitätsmetrik. Trainiere nun das Modell mit einer Batchgröße von 64 über 10 Epochen.  "
   ]
  },
  {
   "cell_type": "code",
   "execution_count": 83,
   "metadata": {},
   "outputs": [
    {
     "name": "stdout",
     "output_type": "stream",
     "text": [
      "Epoch 1/10\n",
      "938/938 - 4s - loss: 0.1850 - accuracy: 0.9302 - val_loss: 0.3051 - val_accuracy: 0.8955 - 4s/epoch - 4ms/step\n",
      "Epoch 2/10\n",
      "938/938 - 4s - loss: 0.1740 - accuracy: 0.9337 - val_loss: 0.3147 - val_accuracy: 0.8957 - 4s/epoch - 4ms/step\n",
      "Epoch 3/10\n",
      "938/938 - 4s - loss: 0.1702 - accuracy: 0.9350 - val_loss: 0.3122 - val_accuracy: 0.8984 - 4s/epoch - 4ms/step\n",
      "Epoch 4/10\n",
      "938/938 - 4s - loss: 0.1605 - accuracy: 0.9392 - val_loss: 0.3055 - val_accuracy: 0.8990 - 4s/epoch - 4ms/step\n",
      "Epoch 5/10\n",
      "938/938 - 4s - loss: 0.1551 - accuracy: 0.9412 - val_loss: 0.3103 - val_accuracy: 0.8978 - 4s/epoch - 4ms/step\n",
      "Epoch 6/10\n",
      "938/938 - 4s - loss: 0.1480 - accuracy: 0.9428 - val_loss: 0.3466 - val_accuracy: 0.8946 - 4s/epoch - 4ms/step\n",
      "Epoch 7/10\n",
      "938/938 - 4s - loss: 0.1409 - accuracy: 0.9464 - val_loss: 0.3199 - val_accuracy: 0.9018 - 4s/epoch - 4ms/step\n",
      "Epoch 8/10\n",
      "938/938 - 4s - loss: 0.1349 - accuracy: 0.9485 - val_loss: 0.3169 - val_accuracy: 0.9014 - 4s/epoch - 4ms/step\n",
      "Epoch 9/10\n",
      "938/938 - 4s - loss: 0.1296 - accuracy: 0.9502 - val_loss: 0.3566 - val_accuracy: 0.8921 - 4s/epoch - 4ms/step\n",
      "Epoch 10/10\n",
      "938/938 - 4s - loss: 0.1241 - accuracy: 0.9531 - val_loss: 0.3822 - val_accuracy: 0.8941 - 4s/epoch - 4ms/step\n"
     ]
    },
    {
     "data": {
      "text/plain": [
       "<keras.callbacks.History at 0x7f7878176550>"
      ]
     },
     "execution_count": 83,
     "metadata": {},
     "output_type": "execute_result"
    }
   ],
   "source": [
    "model.compile(loss='sparse_categorical_crossentropy', optimizer='adam', metrics=['accuracy'])\n",
    "model.fit(x_train, y_train, validation_data=(x_test, y_test), epochs=10, batch_size=64, verbose=2)"
   ]
  },
  {
   "cell_type": "markdown",
   "metadata": {},
   "source": [
    "e) Die Methode ``model.fit()`` gibt ein dictionary zurück, welches Informationen über das erfolgte Training enthält. Speichere die Accuracy von Trainings- und Testdaten und plotte sie über die Epochen für unterschiedliche Batch-Größen."
   ]
  },
  {
   "cell_type": "code",
   "execution_count": 85,
   "metadata": {},
   "outputs": [
    {
     "name": "stdout",
     "output_type": "stream",
     "text": [
      "Die Accuracy ist  89.41 %\n"
     ]
    }
   ],
   "source": [
    "scores = model.evaluate(x_test, y_test, verbose=0)\n",
    "print(\"Die Accuracy ist \" ,'%.2f' %(scores[1]*100) , \"%\")"
   ]
  },
  {
   "cell_type": "code",
   "execution_count": null,
   "metadata": {},
   "outputs": [],
   "source": [
    "plt.plot(epochs, batch_size)"
   ]
  },
  {
   "cell_type": "markdown",
   "metadata": {},
   "source": [
    "\n"
   ]
  }
 ],
 "metadata": {
  "kernelspec": {
   "display_name": "Python 3 (ipykernel)",
   "language": "python",
   "name": "python3"
  },
  "language_info": {
   "codemirror_mode": {
    "name": "ipython",
    "version": 3
   },
   "file_extension": ".py",
   "mimetype": "text/x-python",
   "name": "python",
   "nbconvert_exporter": "python",
   "pygments_lexer": "ipython3",
   "version": "3.9.15"
  }
 },
 "nbformat": 4,
 "nbformat_minor": 4
}
